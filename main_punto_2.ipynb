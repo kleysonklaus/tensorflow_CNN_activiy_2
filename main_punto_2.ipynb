{
 "cells": [
  {
   "cell_type": "code",
   "execution_count": 1,
   "metadata": {},
   "outputs": [],
   "source": [
    "import tensorflow as tf"
   ]
  },
  {
   "cell_type": "code",
   "execution_count": 2,
   "metadata": {},
   "outputs": [
    {
     "name": "stdout",
     "output_type": "stream",
     "text": [
      "1.13.1\n"
     ]
    }
   ],
   "source": [
    "print (tf.__version__)"
   ]
  },
  {
   "cell_type": "code",
   "execution_count": 3,
   "metadata": {},
   "outputs": [],
   "source": [
    "mnist = tf.keras.datasets.fashion_mnist"
   ]
  },
  {
   "cell_type": "code",
   "execution_count": 4,
   "metadata": {
    "scrolled": false
   },
   "outputs": [],
   "source": [
    "(x_train, y_train),( x_test, y_test ) = mnist.load_data()\n"
   ]
  },
  {
   "cell_type": "code",
   "execution_count": 5,
   "metadata": {},
   "outputs": [],
   "source": [
    "x_train = x_train.reshape(60000,28,28,1)\n",
    "x_train = x_train/255.0\n",
    "x_test = x_test.reshape(10000,28,28,1)\n",
    "x_test = x_test/255.0"
   ]
  },
  {
   "cell_type": "code",
   "execution_count": 6,
   "metadata": {},
   "outputs": [
    {
     "name": "stdout",
     "output_type": "stream",
     "text": [
      "WARNING:tensorflow:From C:\\Users\\Toshiba\\Anaconda3\\envs\\tensorflow\\lib\\site-packages\\tensorflow\\python\\ops\\resource_variable_ops.py:435: colocate_with (from tensorflow.python.framework.ops) is deprecated and will be removed in a future version.\n",
      "Instructions for updating:\n",
      "Colocations handled automatically by placer.\n"
     ]
    }
   ],
   "source": [
    "model = tf.keras.models.Sequential([\n",
    "    tf.keras.layers.Conv2D( 16, (3,3), activation='relu', input_shape=(28,28,1) ),\n",
    "    tf.keras.layers.MaxPooling2D(2,2),\n",
    "    tf.keras.layers.Conv2D( 16, (3,3), activation='relu' ),\n",
    "    tf.keras.layers.MaxPooling2D(2,2),\n",
    "    tf.keras.layers.Flatten(),\n",
    "    tf.keras.layers.Dense(128, activation='relu'),\n",
    "    tf.keras.layers.Dense(10, activation='softmax')\n",
    "])"
   ]
  },
  {
   "cell_type": "code",
   "execution_count": 7,
   "metadata": {},
   "outputs": [
    {
     "name": "stdout",
     "output_type": "stream",
     "text": [
      "_________________________________________________________________\n",
      "Layer (type)                 Output Shape              Param #   \n",
      "=================================================================\n",
      "conv2d (Conv2D)              (None, 26, 26, 16)        160       \n",
      "_________________________________________________________________\n",
      "max_pooling2d (MaxPooling2D) (None, 13, 13, 16)        0         \n",
      "_________________________________________________________________\n",
      "conv2d_1 (Conv2D)            (None, 11, 11, 16)        2320      \n",
      "_________________________________________________________________\n",
      "max_pooling2d_1 (MaxPooling2 (None, 5, 5, 16)          0         \n",
      "_________________________________________________________________\n",
      "flatten (Flatten)            (None, 400)               0         \n",
      "_________________________________________________________________\n",
      "dense (Dense)                (None, 128)               51328     \n",
      "_________________________________________________________________\n",
      "dense_1 (Dense)              (None, 10)                1290      \n",
      "=================================================================\n",
      "Total params: 55,098\n",
      "Trainable params: 55,098\n",
      "Non-trainable params: 0\n",
      "_________________________________________________________________\n"
     ]
    }
   ],
   "source": [
    "model.compile(optimizer='adam', loss='sparse_categorical_crossentropy', metrics=['accuracy'])\n",
    "model.summary()"
   ]
  },
  {
   "cell_type": "code",
   "execution_count": 8,
   "metadata": {},
   "outputs": [],
   "source": [
    "class myCallBack(tf.keras.callbacks.Callback):\n",
    "    def on_epoch_end(self, epoch, logs={} ):\n",
    "        if ( logs.get('acc') > 0.99 ):\n",
    "            print (\"\\nAlcanzado un 99 % de precision del entrenamiento\")\n",
    "            self.model.stop_training = True\n",
    "        elif ( logs.get('acc') > 0.97 ):\n",
    "            print (\"\\nAlcanzado un 97 % de precision del entrenamiento\")\n",
    "            self.model.stop_training = True\n",
    "        elif ( logs.get('acc') > 0.96 ):\n",
    "            print (\"\\nAlcanzado un 96 % de precision del entrenamiento\")\n",
    "            self.model.stop_training = True\n",
    "        elif ( logs.get('acc') > 0.95 ):\n",
    "            print (\"\\nAlcanzado un 95 % de precision del entrenamiento\")\n",
    "            self.model.stop_training = True\n",
    "        elif ( logs.get('acc') > 0.94 ):\n",
    "            print (\"\\nAlcanzado un 94 % de precision del entrenamiento\")\n",
    "            self.model.stop_training = True\n",
    "        elif ( logs.get('acc') > 0.93 ):\n",
    "            print (\"\\nAlcanzado un 93 % de precision del entrenamiento\")\n",
    "            self.model.stop_training = True\n",
    "callbacks = myCallBack()"
   ]
  },
  {
   "cell_type": "code",
   "execution_count": 9,
   "metadata": {},
   "outputs": [
    {
     "name": "stdout",
     "output_type": "stream",
     "text": [
      "Epoch 1/10\n",
      "60000/60000 [==============================] - 33s 556us/sample - loss: 0.5129 - acc: 0.8141\n",
      "Epoch 2/10\n",
      "60000/60000 [==============================] - 33s 552us/sample - loss: 0.3507 - acc: 0.8726\n",
      "Epoch 3/10\n",
      "60000/60000 [==============================] - 33s 553us/sample - loss: 0.3049 - acc: 0.8876\n",
      "Epoch 4/10\n",
      "60000/60000 [==============================] - 33s 555us/sample - loss: 0.2756 - acc: 0.8971\n",
      "Epoch 5/10\n",
      "60000/60000 [==============================] - 38s 628us/sample - loss: 0.2525 - acc: 0.9063\n",
      "Epoch 6/10\n",
      "60000/60000 [==============================] - 31s 515us/sample - loss: 0.2355 - acc: 0.9119\n",
      "Epoch 7/10\n",
      "60000/60000 [==============================] - 32s 538us/sample - loss: 0.2216 - acc: 0.9164\n",
      "Epoch 8/10\n",
      "60000/60000 [==============================] - 32s 541us/sample - loss: 0.2079 - acc: 0.9220\n",
      "Epoch 9/10\n",
      "60000/60000 [==============================] - 33s 548us/sample - loss: 0.1970 - acc: 0.9258\n",
      "Epoch 10/10\n",
      "59968/60000 [============================>.] - ETA: 0s - loss: 0.1855 - acc: 0.9304\n",
      "Alcanzado un 93 % de precision del entrenamiento\n",
      "60000/60000 [==============================] - 36s 604us/sample - loss: 0.1854 - acc: 0.9305\n"
     ]
    },
    {
     "data": {
      "text/plain": [
       "<tensorflow.python.keras.callbacks.History at 0x246ed5335c0>"
      ]
     },
     "execution_count": 9,
     "metadata": {},
     "output_type": "execute_result"
    }
   ],
   "source": [
    "model.fit(x_train,y_train,epochs=10,callbacks=[callbacks])"
   ]
  },
  {
   "cell_type": "code",
   "execution_count": 10,
   "metadata": {},
   "outputs": [
    {
     "name": "stdout",
     "output_type": "stream",
     "text": [
      "10000/10000 [==============================] - 2s 242us/sample - loss: 0.2745 - acc: 0.9011\n"
     ]
    }
   ],
   "source": [
    "test_loss = model.evaluate(x_test,y_test)"
   ]
  },
  {
   "cell_type": "code",
   "execution_count": 12,
   "metadata": {},
   "outputs": [
    {
     "data": {
      "image/png": "[encoded data removed]",
      "text/plain": [
       "<Figure size 432x288 with 12 Axes>"
      ]
     },
     "metadata": {
      "needs_background": "light"
     },
     "output_type": "display_data"
    }
   ],
   "source": [
    "import matplotlib.pyplot as plt\n",
    "f , axarr = plt.subplots(3,4)\n",
    "FIRST_IMAGE = 0\n",
    "SECOND_IMAGE = 7\n",
    "THIRD_IMAGE = 26\n",
    "CONVOLUTION_NUMBER = 1\n",
    "from tensorflow.keras import models\n",
    "layer_outputs = [layer.output for layer in model.layers]\n",
    "activation_model = tf.keras.models.Model( inputs = model.input, outputs = layer_outputs )\n",
    "for x in range (0,4):\n",
    "    f1 = activation_model.predict( x_test[FIRST_IMAGE].reshape(1,28,28,1) )[x]\n",
    "    axarr[0,x].imshow( f1[0, : , : ,CONVOLUTION_NUMBER], cmap='inferno' )\n",
    "    axarr[0,x].grid(False)\n",
    "    f2 = activation_model.predict( x_test[SECOND_IMAGE].reshape(1,28,28,1) )[x]\n",
    "    axarr[1,x].imshow( f2[0, : , : ,CONVOLUTION_NUMBER], cmap='inferno' )\n",
    "    axarr[1,x].grid(False)\n",
    "    f3 = activation_model.predict( x_test[THIRD_IMAGE].reshape(1,28,28,1) )[x]\n",
    "    axarr[2,x].imshow( f3[0, : , : ,CONVOLUTION_NUMBER], cmap='inferno' )\n",
    "    axarr[2,x].grid(False)"
   ]
  },
  {
   "cell_type": "code",
   "execution_count": null,
   "metadata": {},
   "outputs": [],
   "source": []
  }
 ],
 "metadata": {
  "kernelspec": {
   "display_name": "Python 3",
   "language": "python",
   "name": "python3"
  },
  "language_info": {
   "codemirror_mode": {
    "name": "ipython",
    "version": 3
   },
   "file_extension": ".py",
   "mimetype": "text/x-python",
   "name": "python",
   "nbconvert_exporter": "python",
   "pygments_lexer": "ipython3",
   "version": "3.7.3"
  }
 },
 "nbformat": 4,
 "nbformat_minor": 2
}
