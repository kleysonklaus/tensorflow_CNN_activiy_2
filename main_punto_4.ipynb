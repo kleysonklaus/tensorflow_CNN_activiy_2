{
 "cells": [
  {
   "cell_type": "code",
   "execution_count": 1,
   "metadata": {},
   "outputs": [],
   "source": [
    "import tensorflow as tf"
   ]
  },
  {
   "cell_type": "code",
   "execution_count": 2,
   "metadata": {},
   "outputs": [
    {
     "name": "stdout",
     "output_type": "stream",
     "text": [
      "1.13.1\n"
     ]
    }
   ],
   "source": [
    "print (tf.__version__)"
   ]
  },
  {
   "cell_type": "code",
   "execution_count": 3,
   "metadata": {},
   "outputs": [],
   "source": [
    "mnist = tf.keras.datasets.fashion_mnist"
   ]
  },
  {
   "cell_type": "code",
   "execution_count": 4,
   "metadata": {
    "scrolled": false
   },
   "outputs": [],
   "source": [
    "(x_train, y_train),( x_test, y_test ) = mnist.load_data()\n"
   ]
  },
  {
   "cell_type": "code",
   "execution_count": 5,
   "metadata": {},
   "outputs": [],
   "source": [
    "x_train = x_train.reshape(60000,28,28,1)\n",
    "x_train = x_train/255.0\n",
    "x_test = x_test.reshape(10000,28,28,1)\n",
    "x_test = x_test/255.0"
   ]
  },
  {
   "cell_type": "code",
   "execution_count": 7,
   "metadata": {
    "scrolled": false
   },
   "outputs": [],
   "source": [
    "model = tf.keras.models.Sequential([\n",
    "    tf.keras.layers.Conv2D( 64, (3,3), activation='relu', input_shape=(28,28,1) ),\n",
    "    tf.keras.layers.MaxPooling2D(2,2),\n",
    "    tf.keras.layers.Conv2D( 64, (3,3), activation='relu' ),\n",
    "    tf.keras.layers.MaxPooling2D(2,2),\n",
    "#     aumentando!\n",
    "    tf.keras.layers.Conv2D( 64, (3,3), activation='relu' ),\n",
    "    tf.keras.layers.MaxPooling2D(2,2),\n",
    "    tf.keras.layers.Flatten(),\n",
    "    tf.keras.layers.Dense(128, activation='relu'),\n",
    "    tf.keras.layers.Dense(10, activation='softmax')\n",
    "])"
   ]
  },
  {
   "cell_type": "code",
   "execution_count": 8,
   "metadata": {},
   "outputs": [
    {
     "name": "stdout",
     "output_type": "stream",
     "text": [
      "_________________________________________________________________\n",
      "Layer (type)                 Output Shape              Param #   \n",
      "=================================================================\n",
      "conv2d_4 (Conv2D)            (None, 26, 26, 64)        640       \n",
      "_________________________________________________________________\n",
      "max_pooling2d_4 (MaxPooling2 (None, 13, 13, 64)        0         \n",
      "_________________________________________________________________\n",
      "conv2d_5 (Conv2D)            (None, 11, 11, 64)        36928     \n",
      "_________________________________________________________________\n",
      "max_pooling2d_5 (MaxPooling2 (None, 5, 5, 64)          0         \n",
      "_________________________________________________________________\n",
      "conv2d_6 (Conv2D)            (None, 3, 3, 64)          36928     \n",
      "_________________________________________________________________\n",
      "max_pooling2d_6 (MaxPooling2 (None, 1, 1, 64)          0         \n",
      "_________________________________________________________________\n",
      "flatten_1 (Flatten)          (None, 64)                0         \n",
      "_________________________________________________________________\n",
      "dense_2 (Dense)              (None, 128)               8320      \n",
      "_________________________________________________________________\n",
      "dense_3 (Dense)              (None, 10)                1290      \n",
      "=================================================================\n",
      "Total params: 84,106\n",
      "Trainable params: 84,106\n",
      "Non-trainable params: 0\n",
      "_________________________________________________________________\n"
     ]
    }
   ],
   "source": [
    "model.compile(optimizer='adam', loss='sparse_categorical_crossentropy', metrics=['accuracy'])\n",
    "model.summary()"
   ]
  },
  {
   "cell_type": "code",
   "execution_count": 9,
   "metadata": {},
   "outputs": [],
   "source": [
    "class myCallBack(tf.keras.callbacks.Callback):\n",
    "    def on_epoch_end(self, epoch, logs={} ):\n",
    "        if ( logs.get('acc') > 0.99 ):\n",
    "            print (\"\\nAlcanzado un 99 % de precision del entrenamiento\")\n",
    "            self.model.stop_training = True\n",
    "        elif ( logs.get('acc') > 0.97 ):\n",
    "            print (\"\\nAlcanzado un 97 % de precision del entrenamiento\")\n",
    "            self.model.stop_training = True\n",
    "        elif ( logs.get('acc') > 0.96 ):\n",
    "            print (\"\\nAlcanzado un 96 % de precision del entrenamiento\")\n",
    "            self.model.stop_training = True\n",
    "        elif ( logs.get('acc') > 0.95 ):\n",
    "            print (\"\\nAlcanzado un 95 % de precision del entrenamiento\")\n",
    "            self.model.stop_training = True\n",
    "        elif ( logs.get('acc') > 0.94 ):\n",
    "            print (\"\\nAlcanzado un 94 % de precision del entrenamiento\")\n",
    "            self.model.stop_training = True\n",
    "        elif ( logs.get('acc') > 0.93 ):\n",
    "            print (\"\\nAlcanzado un 93 % de precision del entrenamiento\")\n",
    "            self.model.stop_training = True\n",
    "callbacks = myCallBack()"
   ]
  },
  {
   "cell_type": "code",
   "execution_count": 10,
   "metadata": {},
   "outputs": [
    {
     "name": "stdout",
     "output_type": "stream",
     "text": [
      "Epoch 1/10\n",
      "60000/60000 [==============================] - 132s 2ms/sample - loss: 0.5692 - acc: 0.7900\n",
      "Epoch 2/10\n",
      "60000/60000 [==============================] - 132s 2ms/sample - loss: 0.3852 - acc: 0.8594\n",
      "Epoch 3/10\n",
      "60000/60000 [==============================] - 130s 2ms/sample - loss: 0.3331 - acc: 0.8767\n",
      "Epoch 4/10\n",
      "60000/60000 [==============================] - 131s 2ms/sample - loss: 0.3007 - acc: 0.8884\n",
      "Epoch 5/10\n",
      "60000/60000 [==============================] - 135s 2ms/sample - loss: 0.2751 - acc: 0.8978\n",
      "Epoch 6/10\n",
      "60000/60000 [==============================] - 131s 2ms/sample - loss: 0.2518 - acc: 0.9064\n",
      "Epoch 7/10\n",
      "60000/60000 [==============================] - 130s 2ms/sample - loss: 0.2353 - acc: 0.9124\n",
      "Epoch 8/10\n",
      "60000/60000 [==============================] - 130s 2ms/sample - loss: 0.2184 - acc: 0.9185\n",
      "Epoch 9/10\n",
      "60000/60000 [==============================] - 131s 2ms/sample - loss: 0.2046 - acc: 0.9226\n",
      "Epoch 10/10\n",
      "60000/60000 [==============================] - 127s 2ms/sample - loss: 0.1902 - acc: 0.9291\n"
     ]
    },
    {
     "data": {
      "text/plain": [
       "<tensorflow.python.keras.callbacks.History at 0x2608f9c7f28>"
      ]
     },
     "execution_count": 10,
     "metadata": {},
     "output_type": "execute_result"
    }
   ],
   "source": [
    "model.fit(x_train,y_train,epochs=10,callbacks=[callbacks])"
   ]
  },
  {
   "cell_type": "code",
   "execution_count": 11,
   "metadata": {},
   "outputs": [
    {
     "name": "stdout",
     "output_type": "stream",
     "text": [
      "10000/10000 [==============================] - 6s 579us/sample - loss: 0.3256 - acc: 0.8934\n"
     ]
    }
   ],
   "source": [
    "test_loss = model.evaluate(x_test,y_test)"
   ]
  },
  {
   "cell_type": "code",
   "execution_count": 13,
   "metadata": {},
   "outputs": [
    {
     "data": {
      "image/png": "[encoded data removed]",
      "text/plain": [
       "<Figure size 432x288 with 12 Axes>"
      ]
     },
     "metadata": {
      "needs_background": "light"
     },
     "output_type": "display_data"
    }
   ],
   "source": [
    "import matplotlib.pyplot as plt\n",
    "f , axarr = plt.subplots(3,4)\n",
    "FIRST_IMAGE = 0\n",
    "SECOND_IMAGE = 7\n",
    "THIRD_IMAGE = 26\n",
    "CONVOLUTION_NUMBER = 1\n",
    "from tensorflow.keras import models\n",
    "layer_outputs = [layer.output for layer in model.layers]\n",
    "activation_model = tf.keras.models.Model( inputs = model.input, outputs = layer_outputs )\n",
    "for x in range (0,4):\n",
    "    f1 = activation_model.predict( x_test[FIRST_IMAGE].reshape(1,28,28,1) )[x]\n",
    "    axarr[0,x].imshow( f1[0, : , : ,CONVOLUTION_NUMBER], cmap='inferno' )\n",
    "    axarr[0,x].grid(False)\n",
    "    f2 = activation_model.predict( x_test[SECOND_IMAGE].reshape(1,28,28,1) )[x]\n",
    "    axarr[1,x].imshow( f2[0, : , : ,CONVOLUTION_NUMBER], cmap='inferno' )\n",
    "    axarr[1,x].grid(False)\n",
    "    f3 = activation_model.predict( x_test[THIRD_IMAGE].reshape(1,28,28,1) )[x]\n",
    "    axarr[2,x].imshow( f3[0, : , : ,CONVOLUTION_NUMBER], cmap='inferno' )\n",
    "    axarr[2,x].grid(False)"
   ]
  },
  {
   "cell_type": "code",
   "execution_count": null,
   "metadata": {},
   "outputs": [],
   "source": []
  }
 ],
 "metadata": {
  "kernelspec": {
   "display_name": "Python 3",
   "language": "python",
   "name": "python3"
  },
  "language_info": {
   "codemirror_mode": {
    "name": "ipython",
    "version": 3
   },
   "file_extension": ".py",
   "mimetype": "text/x-python",
   "name": "python",
   "nbconvert_exporter": "python",
   "pygments_lexer": "ipython3",
   "version": "3.7.3"
  }
 },
 "nbformat": 4,
 "nbformat_minor": 2
}
