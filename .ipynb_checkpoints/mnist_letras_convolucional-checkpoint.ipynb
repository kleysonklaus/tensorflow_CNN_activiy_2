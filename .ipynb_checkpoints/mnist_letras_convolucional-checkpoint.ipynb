{
 "cells": [
  {
   "cell_type": "code",
   "execution_count": 38,
   "metadata": {},
   "outputs": [],
   "source": [
    "### ESTUDIANTE: KLEYSON KLAUS HUANATICO LUQUE ###\n",
    "import tensorflow as tf"
   ]
  },
  {
   "cell_type": "code",
   "execution_count": 39,
   "metadata": {},
   "outputs": [],
   "source": [
    "class myCallBack(tf.keras.callbacks.Callback):\n",
    "    def on_epoch_end(self, epoch, logs={} ):\n",
    "        if ( logs.get('acc') > 0.998 ):\n",
    "            print (\"\\nAlcanzado un 99 % de precision del entrenamiento\")\n",
    "            self.model.stop_training = True"
   ]
  },
  {
   "cell_type": "code",
   "execution_count": 40,
   "metadata": {},
   "outputs": [],
   "source": [
    "#mnist = tf.keras.datasets.fashion_mnist\n",
    "# from tensorflow.examples.tutorials.mnist import input_data\n",
    "# mnist = input_data.read_data_sets(\"MNIST_data/\", one_hot=True)\n",
    "\n",
    "mnist = tf.keras.datasets.mnist"
   ]
  },
  {
   "cell_type": "code",
   "execution_count": 41,
   "metadata": {},
   "outputs": [],
   "source": [
    "(x_train, y_train),( x_test, y_test ) = mnist.load_data()\n",
    "\n",
    "# x_train = tf.placeholder(tf.float32, [None, 784])\n",
    "# y_train = tf.placeholder(tf.float32, [None, 10])\n",
    "# print (x_train)\n",
    "# print (y_train)"
   ]
  },
  {
   "cell_type": "code",
   "execution_count": 42,
   "metadata": {},
   "outputs": [],
   "source": [
    "# (x_train, y_train),( x_test, y_test ) = mnist.load_data()\n",
    "# x_train, y_train = x_train/255.0, y_train/255.0\n",
    "x_train = x_train.reshape(60000,28,28,1)\n",
    "x_train = x_train/255.0\n",
    "x_test = x_test.reshape(10000,28,28,1)\n",
    "x_test = x_test/255.0\n",
    "# print (x_train)\n",
    "# print (y_train)"
   ]
  },
  {
   "cell_type": "code",
   "execution_count": 57,
   "metadata": {},
   "outputs": [],
   "source": [
    "callbacks = myCallBack()\n",
    "\n",
    "model = tf.keras.models.Sequential([\n",
    "    tf.keras.layers.Conv2D( 128, (4,4), activation='relu', input_shape=(28,28,1) ),\n",
    "    tf.keras.layers.MaxPooling2D(2,2),\n",
    "    tf.keras.layers.Flatten(),\n",
    "    tf.keras.layers.Dense(100, activation='relu'),\n",
    "    tf.keras.layers.Dense(10, activation='softmax')\n",
    "])\n",
    "\n",
    "# model = tf.keras.models.Sequential([\n",
    "#     tf.keras.layers.Flatten(input_shape=(28, 28)),\n",
    "#     tf.keras.layers.Dense( 784, activation=tf.nn.relu ),\n",
    "#     tf.keras.layers.Dense( 10, activation=tf.nn.softmax )\n",
    "# ])"
   ]
  },
  {
   "cell_type": "code",
   "execution_count": 58,
   "metadata": {},
   "outputs": [],
   "source": [
    "model.compile(loss = 'sparse_categorical_crossentropy',\n",
    "             metrics=['accuracy'],\n",
    "             optimizer = 'adam',\n",
    "             )"
   ]
  },
  {
   "cell_type": "code",
   "execution_count": 59,
   "metadata": {
    "scrolled": false
   },
   "outputs": [
    {
     "name": "stdout",
     "output_type": "stream",
     "text": [
      "Epoch 1/20\n",
      "60000/60000 [==============================] - 208s 3ms/sample - loss: 0.1224 - acc: 0.9628\n",
      "Epoch 2/20\n",
      "60000/60000 [==============================] - 204s 3ms/sample - loss: 0.0425 - acc: 0.9869\n",
      "Epoch 3/20\n",
      "60000/60000 [==============================] - 204s 3ms/sample - loss: 0.0264 - acc: 0.9921\n",
      "Epoch 4/20\n",
      "60000/60000 [==============================] - 206s 3ms/sample - loss: 0.0180 - acc: 0.9942\n",
      "Epoch 5/20\n",
      "60000/60000 [==============================] - 206s 3ms/sample - loss: 0.0128 - acc: 0.9958\n",
      "Epoch 6/20\n",
      "60000/60000 [==============================] - 205s 3ms/sample - loss: 0.0100 - acc: 0.9966\n",
      "Epoch 7/20\n",
      "60000/60000 [==============================] - 205s 3ms/sample - loss: 0.0083 - acc: 0.9972\n",
      "Epoch 8/20\n",
      "59968/60000 [============================>.] - ETA: 0s - loss: 0.0069 - acc: 0.9981\n",
      "Alcanzado un 99 % de precision del entrenamiento\n",
      "60000/60000 [==============================] - 210s 3ms/sample - loss: 0.0069 - acc: 0.9981\n"
     ]
    },
    {
     "data": {
      "text/plain": [
       "<tensorflow.python.keras.callbacks.History at 0x1622173da58>"
      ]
     },
     "execution_count": 59,
     "metadata": {},
     "output_type": "execute_result"
    }
   ],
   "source": [
    "# model.fit(x_train, y_train, epochs=10, callbacks=[callbacks])\n",
    "\n",
    "# model.fit(x_train, y_train, epochs = 10, callbacks=[callbacks]) \n",
    "model.fit(x_train, y_train, epochs=20, callbacks=[callbacks])"
   ]
  },
  {
   "cell_type": "code",
   "execution_count": null,
   "metadata": {},
   "outputs": [],
   "source": []
  }
 ],
 "metadata": {
  "kernelspec": {
   "display_name": "Python 3",
   "language": "python",
   "name": "python3"
  },
  "language_info": {
   "codemirror_mode": {
    "name": "ipython",
    "version": 3
   },
   "file_extension": ".py",
   "mimetype": "text/x-python",
   "name": "python",
   "nbconvert_exporter": "python",
   "pygments_lexer": "ipython3",
   "version": "3.7.3"
  }
 },
 "nbformat": 4,
 "nbformat_minor": 2
}
